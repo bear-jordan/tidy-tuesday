{
 "cells": [
  {
   "cell_type": "markdown",
   "id": "0593ccb3-f5f5-4eec-8377-6ce24e987027",
   "metadata": {},
   "source": [
    "# Week 1 EDA\n",
    "\n",
    "## Background\n",
    "The Oregon spotted frog (Rana pretiosa) is a medium-sized anuran native to the northwestern United States. Body coloration ranges from brown or tan to brick red, usually overlaid with dark, ragged spots. Oregon spotted frogs can be distinguished from other native species by their relatively short hind legs, orange or red wash of color on underside of abdomen and legs, and upturned chartreuse eyes. They are associated with freshwater marshes and lakes where they breed in early spring in warm emergent vegetated shallows. The Oregon spotted frog is highly aquatic and reliant on connected seasonal habitats for breeding, summer foraging, and overwintering.\n",
    "\n",
    "Oregon spotted frogs once occurred from southwest British Columbia to northeastern California. They appear to be lost from California and Oregon’s Willamette Valley. Hypothesized reasons for their decline include habitat loss and alteration, invasive predators and competitors, and water quality degradation. Most of known populations are currently located along the Cascade Range in central Oregon. The Oregon spotted frog was listed as Threatened under the Endangered Species Act in 2014.\n",
    "\n",
    "USGS Research – Status and Trends, Threat Assessments\n",
    "\n",
    "The USGS Forest and Rangeland Ecosystem Science Center (FRESC) is the Pacific Northwest hub for the US Department of Interior’s Amphibian Research and Monitoring Initiative (ARMI). Over the past 15 years, biologists in Dr. Michael Adams’s laboratory at FRESC have monitored occupancy patterns, abundance, and population demography to better understand the status of Oregon spotted frog in Oregon. Through a combination of observational, experimental, and modeling techniques, researchers examine relationships between Oregon spotted frog population trends and habitat variables to understand factors contributing to Oregon spotted frog declines.\n",
    "\n",
    "USGS and partners have also evaluated interagency efforts to translocate Oregon spotted frogs. Long-term monitoring of relocated populations through mark-recapture efforts allows researchers to estimate probabilities of site colonization or extinction, as well as survival and growth rates for different sexes and life stages. This information can help managers plan for future translocations by understanding the underlying causes for a project’s success or failure.\n",
    "USGS researchers disseminate their findings on Oregon spotted frog conservation to the public through various modes, including formal Oregon spotted frog status reports, peer-reviewed journal publications, and the popular media.\n",
    "\n",
    "The Herpetology Lab works with a variety of academic, non profit, and federal and state agency partners. Results are disseminated in a variety of ways, including peer-reviewed journal publications, scientific meetings, public presentations, and the popular media.\n",
    "\n",
    "[Source](https://www.usgs.gov/centers/forest-and-rangeland-ecosystem-science-center/science/oregon-spotted-frog)\n",
    "\n",
    "### What Stands out\n",
    "- The Oregon spotted frog are are in decline potentially due to habitat loss and alteration, invasive predators and competitors, and water quality degredation.\n",
    "- It's population has shrunk from a range of BC to northeastern California all the way to the Cascade Range in central Oregon.\n",
    "- Researchers use mark and recapture to track species.\n",
    "\n",
    "## Initial Ideas\n",
    "I think it could be fun to do a map of showing the where the species used to exist and where they exist now. I could do a scrolly showing the decline with major events."
   ]
  },
  {
   "cell_type": "code",
   "execution_count": null,
   "id": "a49a0496-8b9b-44c3-be26-a00f1137a1e9",
   "metadata": {},
   "outputs": [],
   "source": []
  }
 ],
 "metadata": {
  "kernelspec": {
   "display_name": "Julia 1.7.3",
   "language": "julia",
   "name": "julia-1.7"
  },
  "language_info": {
   "file_extension": ".jl",
   "mimetype": "application/julia",
   "name": "julia",
   "version": "1.7.3"
  }
 },
 "nbformat": 4,
 "nbformat_minor": 5
}
